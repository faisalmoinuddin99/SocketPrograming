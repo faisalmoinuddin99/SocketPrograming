{
 "cells": [
  {
   "cell_type": "code",
   "execution_count": 1,
   "metadata": {},
   "outputs": [],
   "source": [
    "import socket"
   ]
  },
  {
   "cell_type": "code",
   "execution_count": 2,
   "metadata": {},
   "outputs": [
    {
     "name": "stdout",
     "output_type": "stream",
     "text": [
      "Socket Created\n"
     ]
    }
   ],
   "source": [
    "s = socket.socket()\n",
    "print('Socket Created')"
   ]
  },
  {
   "cell_type": "code",
   "execution_count": null,
   "metadata": {},
   "outputs": [
    {
     "name": "stdout",
     "output_type": "stream",
     "text": [
      "waiting for connections\n",
      "connected with ('127.0.0.1', 61890) faisal\n",
      "connected with ('127.0.0.1', 61906) Harsh\n"
     ]
    }
   ],
   "source": [
    "s.bind(('localhost',9999))\n",
    "s.listen(3)\n",
    "print(\"waiting for connections\")\n",
    "\n",
    "while True:\n",
    "    c,addr = s.accept()\n",
    "    name = c.recv(1024).decode()\n",
    "    print(\"connected with\",addr,name)\n",
    "    \n",
    "    c.send(bytes(\"Welcome to Telusko\",'utf-8'))\n",
    "    c.close()"
   ]
  },
  {
   "cell_type": "code",
   "execution_count": null,
   "metadata": {},
   "outputs": [],
   "source": []
  }
 ],
 "metadata": {
  "kernelspec": {
   "display_name": "Python 3",
   "language": "python",
   "name": "python3"
  },
  "language_info": {
   "codemirror_mode": {
    "name": "ipython",
    "version": 3
   },
   "file_extension": ".py",
   "mimetype": "text/x-python",
   "name": "python",
   "nbconvert_exporter": "python",
   "pygments_lexer": "ipython3",
   "version": "3.7.4"
  }
 },
 "nbformat": 4,
 "nbformat_minor": 2
}
